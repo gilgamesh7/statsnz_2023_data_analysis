{
 "cells": [
  {
   "cell_type": "code",
   "execution_count": 1,
   "metadata": {},
   "outputs": [
    {
     "name": "stdout",
     "output_type": "stream",
     "text": [
      "Python 3.12.3\n"
     ]
    }
   ],
   "source": [
    "!python --version"
   ]
  },
  {
   "cell_type": "code",
   "execution_count": null,
   "metadata": {},
   "outputs": [],
   "source": [
    "!pip install pandas"
   ]
  },
  {
   "cell_type": "code",
   "execution_count": 6,
   "metadata": {},
   "outputs": [
    {
     "name": "stdout",
     "output_type": "stream",
     "text": [
      "appnope==0.1.4\n",
      "asttokens==3.0.0\n",
      "comm==0.2.2\n",
      "debugpy==1.8.12\n",
      "decorator==5.1.1\n",
      "executing==2.2.0\n",
      "ipykernel==6.29.5\n",
      "ipython==8.31.0\n",
      "jedi==0.19.2\n",
      "jupyter_client==8.6.3\n",
      "jupyter_core==5.7.2\n",
      "matplotlib-inline==0.1.7\n",
      "nest-asyncio==1.6.0\n",
      "numpy==2.2.2\n",
      "packaging==24.2\n",
      "pandas==2.2.3\n",
      "parso==0.8.4\n",
      "pexpect==4.9.0\n",
      "platformdirs==4.3.6\n",
      "prompt_toolkit==3.0.50\n",
      "psutil==6.1.1\n",
      "ptyprocess==0.7.0\n",
      "pure_eval==0.2.3\n",
      "Pygments==2.19.1\n",
      "python-dateutil==2.9.0.post0\n",
      "pytz==2025.1\n",
      "pyzmq==26.2.1\n",
      "six==1.17.0\n",
      "stack-data==0.6.3\n",
      "tornado==6.4.2\n",
      "traitlets==5.14.3\n",
      "tzdata==2025.1\n",
      "wcwidth==0.2.13\n"
     ]
    }
   ],
   "source": [
    "!pip freeze"
   ]
  },
  {
   "cell_type": "code",
   "execution_count": 7,
   "metadata": {},
   "outputs": [],
   "source": [
    "!pip freeze > requirements.txt"
   ]
  },
  {
   "cell_type": "code",
   "execution_count": 10,
   "metadata": {},
   "outputs": [
    {
     "name": "stdout",
     "output_type": "stream",
     "text": [
      "                   DATAFLOW          COURT_CLUSTER_JUS_CAL_001: Court  \\\n",
      "0  STATSNZ:JUS_CAL_001(1.0)  010: Te Tai Tokerau Justice Service Area   \n",
      "1  STATSNZ:JUS_CAL_001(1.0)  010: Te Tai Tokerau Justice Service Area   \n",
      "2  STATSNZ:JUS_CAL_001(1.0)  010: Te Tai Tokerau Justice Service Area   \n",
      "3  STATSNZ:JUS_CAL_001(1.0)  010: Te Tai Tokerau Justice Service Area   \n",
      "4  STATSNZ:JUS_CAL_001(1.0)  010: Te Tai Tokerau Justice Service Area   \n",
      "\n",
      "  MAIN_OFFENCE_JUS_CAL_001: Main offence AGE_GROUP_JUS_CAL_001: Age group  \\\n",
      "0                     00: Total offences          A: Unknown/Organisation   \n",
      "1                     00: Total offences          A: Unknown/Organisation   \n",
      "2                     00: Total offences          A: Unknown/Organisation   \n",
      "3                     00: Total offences          A: Unknown/Organisation   \n",
      "4                     00: Total offences          A: Unknown/Organisation   \n",
      "\n",
      "  GENDER_JUS_CAL_001: Gender ETHNICITY_JUS_CAL_001: Ethnicity  \\\n",
      "0                  F: Female                      C: European   \n",
      "1                  F: Female                      C: European   \n",
      "2                  F: Female                      C: European   \n",
      "3                  F: Female                      C: European   \n",
      "4                  F: Female                      C: European   \n",
      "\n",
      "  SENTENCE_JUS_CAL_001: Sentence  YEAR_JUS_CAL_001: Calendar year  OBS_VALUE  \n",
      "0               03: Imprisonment                             2020          1  \n",
      "1    100: Imprisonment sentences                             2020          1  \n",
      "2                   16: Monetary                             1981          5  \n",
      "3                   16: Monetary                             1982          1  \n",
      "4                   16: Monetary                             1989          1  \n"
     ]
    }
   ],
   "source": [
    "# Inspect file without loading it completely\n",
    "import pandas as pd\n",
    "\n",
    "file_path = 'STATSNZ,JUS_CAL_001,1.0+all.csv'\n",
    "# Just read the first 5 rows\n",
    "df_head = pd.read_csv(file_path, nrows=5)\n",
    "print(df_head.head())"
   ]
  },
  {
   "cell_type": "code",
   "execution_count": 13,
   "metadata": {},
   "outputs": [
    {
     "name": "stdout",
     "output_type": "stream",
     "text": [
      "DATAFLOW\n",
      "COURT_CLUSTER_JUS_CAL_001: Court\n",
      "MAIN_OFFENCE_JUS_CAL_001: Main offence\n",
      "AGE_GROUP_JUS_CAL_001: Age group\n",
      "GENDER_JUS_CAL_001: Gender\n",
      "ETHNICITY_JUS_CAL_001: Ethnicity\n",
      "SENTENCE_JUS_CAL_001: Sentence\n",
      "YEAR_JUS_CAL_001: Calendar year\n",
      "OBS_VALUE\n"
     ]
    }
   ],
   "source": [
    "# Read only the column names\n",
    "df_columns = pd.read_csv(file_path, nrows=0)\n",
    "print(\"\\n\".join(df_columns.columns.to_list()))"
   ]
  },
  {
   "cell_type": "code",
   "execution_count": 16,
   "metadata": {},
   "outputs": [
    {
     "name": "stdout",
     "output_type": "stream",
     "text": [
      "Total Rows : 14,732,315\n"
     ]
    }
   ],
   "source": [
    "# Check File Size and Number of Rows Efficiently\n",
    "with open(file_path, 'r') as stats_file:\n",
    "    row_count = sum(1 for _ in stats_file) - 1\n",
    "\n",
    "print(f\"Total Rows : {row_count:,}\")"
   ]
  }
 ],
 "metadata": {
  "kernelspec": {
   "display_name": "venv",
   "language": "python",
   "name": "python3"
  },
  "language_info": {
   "codemirror_mode": {
    "name": "ipython",
    "version": 3
   },
   "file_extension": ".py",
   "mimetype": "text/x-python",
   "name": "python",
   "nbconvert_exporter": "python",
   "pygments_lexer": "ipython3",
   "version": "3.12.3"
  }
 },
 "nbformat": 4,
 "nbformat_minor": 2
}
